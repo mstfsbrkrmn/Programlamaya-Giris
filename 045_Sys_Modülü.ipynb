{
  "nbformat": 4,
  "nbformat_minor": 0,
  "metadata": {
    "colab": {
      "name": "045_Sys Modülü.ipynb",
      "provenance": [],
      "collapsed_sections": [],
      "authorship_tag": "ABX9TyMrT/Hm1lQpRbvQ1Tq2etie",
      "include_colab_link": true
    },
    "kernelspec": {
      "name": "python3",
      "display_name": "Python 3"
    }
  },
  "cells": [
    {
      "cell_type": "markdown",
      "metadata": {
        "id": "view-in-github",
        "colab_type": "text"
      },
      "source": [
        "<a href=\"https://colab.research.google.com/github/mstfsbrkrmn/Programlamaya-Giris/blob/master/045_Sys_Mod%C3%BCl%C3%BC.ipynb\" target=\"_parent\"><img src=\"https://colab.research.google.com/assets/colab-badge.svg\" alt=\"Open In Colab\"/></a>"
      ]
    },
    {
      "cell_type": "code",
      "metadata": {
        "id": "dCe0ktkho8QX",
        "colab_type": "code",
        "colab": {
          "base_uri": "https://localhost:8080/",
          "height": 1000
        },
        "outputId": "aa4075f6-add1-499e-d181-632d277a143f"
      },
      "source": [
        "import sys\n",
        "dir(sys)"
      ],
      "execution_count": 1,
      "outputs": [
        {
          "output_type": "execute_result",
          "data": {
            "text/plain": [
              "['__displayhook__',\n",
              " '__doc__',\n",
              " '__excepthook__',\n",
              " '__interactivehook__',\n",
              " '__loader__',\n",
              " '__name__',\n",
              " '__package__',\n",
              " '__spec__',\n",
              " '__stderr__',\n",
              " '__stdin__',\n",
              " '__stdout__',\n",
              " '_clear_type_cache',\n",
              " '_current_frames',\n",
              " '_debugmallocstats',\n",
              " '_getframe',\n",
              " '_git',\n",
              " '_home',\n",
              " '_xoptions',\n",
              " 'abiflags',\n",
              " 'api_version',\n",
              " 'argv',\n",
              " 'base_exec_prefix',\n",
              " 'base_prefix',\n",
              " 'builtin_module_names',\n",
              " 'byteorder',\n",
              " 'call_tracing',\n",
              " 'callstats',\n",
              " 'copyright',\n",
              " 'displayhook',\n",
              " 'dont_write_bytecode',\n",
              " 'exc_info',\n",
              " 'excepthook',\n",
              " 'exec_prefix',\n",
              " 'executable',\n",
              " 'exit',\n",
              " 'flags',\n",
              " 'float_info',\n",
              " 'float_repr_style',\n",
              " 'get_asyncgen_hooks',\n",
              " 'get_coroutine_wrapper',\n",
              " 'getallocatedblocks',\n",
              " 'getcheckinterval',\n",
              " 'getdefaultencoding',\n",
              " 'getdlopenflags',\n",
              " 'getfilesystemencodeerrors',\n",
              " 'getfilesystemencoding',\n",
              " 'getprofile',\n",
              " 'getrecursionlimit',\n",
              " 'getrefcount',\n",
              " 'getsizeof',\n",
              " 'getswitchinterval',\n",
              " 'gettrace',\n",
              " 'hash_info',\n",
              " 'hexversion',\n",
              " 'implementation',\n",
              " 'int_info',\n",
              " 'intern',\n",
              " 'is_finalizing',\n",
              " 'maxsize',\n",
              " 'maxunicode',\n",
              " 'meta_path',\n",
              " 'modules',\n",
              " 'path',\n",
              " 'path_hooks',\n",
              " 'path_importer_cache',\n",
              " 'platform',\n",
              " 'prefix',\n",
              " 'ps1',\n",
              " 'ps2',\n",
              " 'ps3',\n",
              " 'set_asyncgen_hooks',\n",
              " 'set_coroutine_wrapper',\n",
              " 'setcheckinterval',\n",
              " 'setdlopenflags',\n",
              " 'setprofile',\n",
              " 'setrecursionlimit',\n",
              " 'setswitchinterval',\n",
              " 'settrace',\n",
              " 'stderr',\n",
              " 'stdin',\n",
              " 'stdout',\n",
              " 'thread_info',\n",
              " 'version',\n",
              " 'version_info',\n",
              " 'warnoptions']"
            ]
          },
          "metadata": {
            "tags": []
          },
          "execution_count": 1
        }
      ]
    },
    {
      "cell_type": "code",
      "metadata": {
        "id": "OaZ8E9yLqeNr",
        "colab_type": "code",
        "colab": {}
      },
      "source": [
        "a = input(\"a:\")\n",
        "b = input(\"b:\")\n",
        "\n",
        "sys.exit()\n",
        "\n",
        "c = input(\"c:\")"
      ],
      "execution_count": null,
      "outputs": []
    },
    {
      "cell_type": "markdown",
      "metadata": {
        "id": "xmcO3wyyq9NS",
        "colab_type": "text"
      },
      "source": [
        "**stderr** ve **stdout**\n",
        "\n",
        "Bilgisayarlar uygulamalarımız ve işlemlerimiz çalıştığı zaman çıktı vermek ve girdi almak için şu dosyaları kullanır.\n",
        "\n",
        "**stdin** : Bu standard dosya, işlemimizin (process ) kullanıcıdan input almasını sağlar.\n",
        "\n",
        "**stdout** : Bu standard dosya, işlemimizin (process ) çıktı vermesini sağlar.\n",
        "\n",
        "**stderr** : Bu standard dosya, işlemimizin hata mesajlarını çıktı olarak vermek için kullanılır.\n",
        "\n",
        "Biz **print()** fonksiyonumuzu kullandığımızda aslında standard olarak stdout kullanılmaktadır. Ancak biz istersek **stderr**'e de bir şeyler yazabiliriz."
      ]
    },
    {
      "cell_type": "code",
      "metadata": {
        "id": "AG0N_Y_lrO6B",
        "colab_type": "code",
        "colab": {
          "base_uri": "https://localhost:8080/",
          "height": 51
        },
        "outputId": "faf3be7a-54e4-43b8-db3c-9d045aa522b8"
      },
      "source": [
        "sys.stderr.write(\"Burası bir hata mesajı\\n\")\n",
        "\n",
        "sys.stderr.flush() # Buffer'ı hemen yaz. \n",
        "\n",
        "sys.stdout.write(\"Burası normal çıktımız\\n\")"
      ],
      "execution_count": 3,
      "outputs": [
        {
          "output_type": "stream",
          "text": [
            "Burası bir hata mesajı\n"
          ],
          "name": "stderr"
        },
        {
          "output_type": "stream",
          "text": [
            "Burası normal çıktımız\n"
          ],
          "name": "stdout"
        }
      ]
    }
  ]
}